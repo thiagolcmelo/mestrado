{
 "cells": [
  {
   "cell_type": "markdown",
   "metadata": {
    "ExecuteTime": {
     "end_time": "2018-09-16T15:22:39.382583Z",
     "start_time": "2018-09-16T15:22:39.371234Z"
    },
    "slideshow": {
     "slide_type": "slide"
    }
   },
   "source": [
    "Simulação Computacional de Heteroestruturas Semicondutoras\n",
    "====\n",
    "\n",
    "-----\n",
    "\n",
    "**Apresentação para defesa de dissertação de mestrado**\n",
    "\n",
    "Candidato: Thiago Luiz Chaves de Melo\n",
    "\n",
    "Orientadora: Profa. Dra. Euzi Conceição Fernandes da Silva"
   ]
  },
  {
   "cell_type": "markdown",
   "metadata": {
    "ExecuteTime": {
     "end_time": "2018-09-15T23:18:46.294703Z",
     "start_time": "2018-09-15T23:18:45.071711Z"
    },
    "slideshow": {
     "slide_type": "slide"
    }
   },
   "source": [
    "# Objetivos\n",
    "\n",
    "----\n",
    "\n",
    "Calcular propriedades dinamicas em heteroestruturas semicondutoras:\n",
    "\n",
    "\n",
    "- **Espectro de Fotocorrente**\n",
    "- **Espectro de Absorção**\n",
    "\n",
    "Esta duas propriedades dependem do domínio dos cálculos de:\n",
    "\n",
    "- **Autovalores e autovetores** (autofunções e autoenergias) para qualquer tipo de potencial\n",
    "\n",
    "- **Evolução temporal** (solução da ESDT por EDP ou Operador de Evolução)"
   ]
  },
  {
   "cell_type": "markdown",
   "metadata": {
    "slideshow": {
     "slide_type": "slide"
    }
   },
   "source": [
    "<h1>Dominando Evolução Temporal <small>Pacote de Onda Plana</small></h1>\n",
    "\n",
    "----\n",
    "\n",
    "Em nossos primeiros cálculos, pequenas variações:\n",
    "\n",
    "- tamanho do sistema $L$ ...................... efeitos de borda\n",
    "- número de pontos $N$ ......................... $\\Delta x = L / N$\n",
    "- passo de tempo $\\Delta t$ ........................... estabilidade\n",
    "\n",
    "causavam grandes diferenças nos resultados (fotocorrente e absorção)"
   ]
  },
  {
   "cell_type": "markdown",
   "metadata": {
    "slideshow": {
     "slide_type": "subslide"
    }
   },
   "source": [
    "<h1>Dominando Evolução Temporal <small>Pacote de Onda Plana</small></h1>\n",
    "\n",
    "----\n",
    "\n",
    "É um problema simples de EDP:\n",
    "\n",
    "$$-\\frac{\\hbar^2}{2m_e} \\frac{\\partial^2 \\psi(z,t)}{\\partial z^2} = i \\hbar \\frac{\\partial \\psi(z,t)}{\\partial t},$$\n",
    "\n",
    "para:\n",
    "\n",
    "$$\\psi(z,0) = \\frac{1}{ \\sqrt[4]{ 2 \\pi \\sigma_{z}^2 }} \\exp \\left( i k_\\mathrm{0} z - \\frac{{\\left( z - z_\\mathrm{0} \\right)}^2}{4 \\sigma_{z}^2} \\right).$$\n",
    "\n",
    "Este problema possui *algumas* soluções analíticas, mas também pode ser tratado por Diferenças Finitas:\n",
    "\n",
    "- Runge-Kutta\n",
    "- Crank-Nicolson\n",
    "\n",
    "Ou pelo operador de evolução temporal:\n",
    "\n",
    "- *Split-Step FFT* (Pseudo-Espectral)"
   ]
  },
  {
   "cell_type": "markdown",
   "metadata": {
    "slideshow": {
     "slide_type": "subslide"
    }
   },
   "source": [
    "<h1>Dominando Evolução Temporal <small>Pacote de Onda Plana</small></h1>\n",
    "\n",
    "----\n",
    "\n",
    "## Solução analítica 1 (FFT)\n",
    "\n",
    ".\n",
    "\\begin{equation}\n",
    "\\Psi(z,t) = \\displaystyle\\int_{-\\infty}^{+\\infty} \\left( \\mathcal{F}[\\Psi(z,0)] \\, e^{- i \\omega(k) t} \\right) \\, e^{i kz} \\, dk,\n",
    "\\end{equation}\n",
    "\n",
    "\\begin{equation}\n",
    "E(k) = \\hbar\\omega(k)=\\frac{\\hbar^2 k^2}{2m} \\rightarrow \\omega(k)=\\frac{\\hbar k^2}{2m}\n",
    "\\end{equation}\n",
    "\n",
    "## Solução analítica 2 (Propagador)\n",
    "\n",
    ".\n",
    "\\begin{equation}\n",
    "\\Psi(z,t) = \\displaystyle\\int_{-\\infty}^{+\\infty} dx' \\, J(x,t;x',0) \\Psi(z',0)\n",
    "\\end{equation}\n",
    "\n",
    "\\begin{equation}\n",
    "J(x,t;x',t') = \\langle x | e^{-\\frac{i H\\Delta t}{\\hbar}} | x' \\rangle\n",
    "\\end{equation}\n",
    "\n",
    "\\begin{equation}\n",
    "H = -\\frac{\\hbar^2}{2m_e} \\frac{\\partial^2 \\psi(z,t)}{\\partial z^2}\n",
    "\\end{equation}"
   ]
  },
  {
   "cell_type": "markdown",
   "metadata": {
    "slideshow": {
     "slide_type": "subslide"
    }
   },
   "source": [
    "<h1>Dominando Evolução Temporal <small>Pacote de Onda Plana</small></h1>\n",
    "\n",
    "----\n",
    "\n",
    "Optamos pela **solução analítica 1**, com fácil implementação:\n"
   ]
  },
  {
   "cell_type": "code",
   "execution_count": 12,
   "metadata": {
    "ExecuteTime": {
     "end_time": "2018-09-18T17:07:10.502531Z",
     "start_time": "2018-09-18T17:07:10.388142Z"
    },
    "slideshow": {
     "slide_type": "fragment"
    }
   },
   "outputs": [],
   "source": [
    "psi_k = fft(psi)\n",
    "omega_k = k_au ** 2 / 2\n",
    "psi = ifft(psi_k * np.exp(-1j * omega_k * t_au))"
   ]
  },
  {
   "cell_type": "markdown",
   "metadata": {
    "slideshow": {
     "slide_type": "subslide"
    }
   },
   "source": [
    "<h1>Dominando Evolução Temporal <small>Pacote de Onda Plana</small></h1>\n",
    "\n",
    "----\n",
    "\n",
    "Evoluímos um pacote de onda de energia $E=150$ eV da posição inicial $z_\\mathrm{i} = -20.0$ Å até a posição final $z_\\mathrm{f} \\approx +20.0$ Å utilizando os métodos:\n",
    "    \n",
    "- Pseudo-Espectral\n",
    "- Runge-Kutta\n",
    "- Crank-Nicolson\n",
    "\n",
    "Variamos para cada método:\n",
    "\n",
    "- $L=\\{100, 250, 400, 550, 700, 850, 1000\\}$ Å\n",
    "- $N=\\{256, 512, 1024,2048, 4096\\}$ pontos\n",
    "- $\\Delta t = \\{1 \\times 10^{-20},\\, 5 \\times 10^{-20}, \\dots,\\, 1 \\times 10^{-16},\\, 5 \\times 10^{-16}   \\}$ s\n",
    "\n",
    "Observamos:\n",
    "\n",
    "- Conservação da norma\n",
    "- Desvio padrão\n",
    "- Surgimento de obliquidade (*skewness*)\n",
    "- Tempo de processamento"
   ]
  },
  {
   "cell_type": "markdown",
   "metadata": {
    "slideshow": {
     "slide_type": "subslide"
    }
   },
   "source": [
    "<h1>Dominando Evolução Temporal <small>Pacote de Onda Plana</small></h1>\n",
    "\n",
    "----\n",
    "\n",
    "Sobre o desvio padrão e a obliquidade.\n",
    "\n",
    "<img src=\"figuras/comparacao_desvpad_obliquidade.png\" alt=\"stdvar_skewness\" width=\"100%\" align=\"center\" />"
   ]
  },
  {
   "cell_type": "markdown",
   "metadata": {
    "slideshow": {
     "slide_type": "subslide"
    }
   },
   "source": [
    "<h1>Dominando Evolução Temporal <small>Pacote de Onda Plana</small></h1>\n",
    "\n",
    "----\n",
    "\n",
    "Parâmetros adequados: $L=100$ Å, $N=1024$ pontos e $\\Delta t = 1 \\times 10^{-18}$ s.\n",
    "\n",
    "<video width=\"100%\" controls>\n",
    "  <source src=\"apresentacao/onda_plana_parametros_bons.webm\" type=\"video/mp4\">\n",
    "    Your browser does not support the video tag.\n",
    "</video>"
   ]
  },
  {
   "cell_type": "markdown",
   "metadata": {
    "slideshow": {
     "slide_type": "subslide"
    }
   },
   "source": [
    "<h1>Dominando Evolução Temporal <small>Pacote de Onda Plana</small></h1>\n",
    "\n",
    "----\n",
    "\n",
    "**Dispersão incorreta** e **obliquidade**: $L=850$ Å, $N=256$ pontos e $\\Delta t = 1 \\times 10^{-16}$ s.\n",
    "\n",
    "<video width=\"100%\" controls>\n",
    "  <source src=\"apresentacao/onda_plana_parametros_ruins.webm\" type=\"video/mp4\">\n",
    "    Your browser does not support the video tag.\n",
    "</video>"
   ]
  },
  {
   "cell_type": "markdown",
   "metadata": {
    "slideshow": {
     "slide_type": "subslide"
    }
   },
   "source": [
    "<h1>Dominando Evolução Temporal <small>Pacote de Onda Plana</small></h1>\n",
    "\n",
    "----\n",
    "\n",
    "**Dispersão incorreta**: $L=850$ Å, $N=256$ pontos e $\\Delta t = 1 \\times 10^{-16}$ s.\n",
    "\n",
    "<video width=\"100%\" controls>\n",
    "  <source src=\"apresentacao/onda_plana_parametros_ruins_stdev.webm\" type=\"video/mp4\">\n",
    "    Your browser does not support the video tag.\n",
    "</video>"
   ]
  },
  {
   "cell_type": "markdown",
   "metadata": {
    "slideshow": {
     "slide_type": "subslide"
    }
   },
   "source": [
    "<h1>Dominando Evolução Temporal <small>Pacote de Onda Plana</small></h1>\n",
    "\n",
    "----\n",
    "\n",
    "**Obliquidade**: $L=850$ Å, $N=256$ pontos e $\\Delta t = 1 \\times 10^{-16}$ s.\n",
    "\n",
    "<video width=\"100%\" controls>\n",
    "  <source src=\"apresentacao/onda_plana_parametros_ruins_skew.webm\" type=\"video/mp4\">\n",
    "    Your browser does not support the video tag.\n",
    "</video>"
   ]
  },
  {
   "cell_type": "markdown",
   "metadata": {
    "slideshow": {
     "slide_type": "subslide"
    }
   },
   "source": [
    "<h1>Dominando Evolução Temporal <small>Pacote de Onda Plana</small></h1>\n",
    "\n",
    "----\n",
    "\n",
    "Para cada método e para cada combinação de $\\{L,N,\\Delta t\\}$, calculamos:\n",
    "\n",
    "\\begin{align}\n",
    "    \\mathcal{A}(t) = \\frac{\\int_{-\\infty}^{+\\infty} |\\psi(z,t)|^2 \\, dz}{\\int_{-\\infty}^{+\\infty} |\\psi(z,0)|^2 \\, dz} &\\rightarrow \\mathbb{A}(t) = \\frac{\\mathcal{A}(t)-\\langle{\\mathcal{A}(t)}\\rangle}{\\sigma(\\mathcal{A}(t))}\\\\\n",
    "    \\mathcal{S}(t) = \\sigma\\left(|\\psi(z,t)|^2\\right) &\\rightarrow \\mathbb{S}(t) = \\frac{\\mathcal{S}(t)-\\langle{\\mathcal{S}(t)}\\rangle}{\\sigma(\\mathcal{S}(t))}\\\\\n",
    "    \\mathcal{G}(t) = \\gamma(t) &\\rightarrow \\mathbb{G}(t) = \\frac{\\mathcal{G}(t)-\\langle{\\mathcal{G}(t)}\\rangle}{\\sigma(\\mathcal{G}(t))}\\\\\n",
    "\\end{align}"
   ]
  },
  {
   "cell_type": "markdown",
   "metadata": {
    "slideshow": {
     "slide_type": "fragment"
    }
   },
   "source": [
    "### Consolidamos as 3 informações usando a Distância de Minkowski\n",
    "\n",
    ".\n",
    "\\begin{equation}\\label{eq:minkowski_vector}\n",
    "    \\mathbb{X}(t) = (\\mathbb{A}(t),\\mathbb{S}(t), \\mathbb{G}(t))\n",
    "\\end{equation}\n",
    "\n",
    "\\begin{equation}\\label{eq:minkowski_distance_specific}\n",
    "    D_p (\\mathbb{X}(t), \\mathbb{Y}(t)) = \\left( \\displaystyle\\sum_{i=1}^3 |\\mathbb{X}_i(t)-\\mathbb{Y}_i(t)|^p \\right)^{1/p}\n",
    "\\end{equation}\n",
    "\n",
    "Onde $\\mathbb{X}(t)$ se refere a evolução numérica e $\\mathbb{Y}(t)$ a evolução analítica."
   ]
  },
  {
   "cell_type": "markdown",
   "metadata": {
    "slideshow": {
     "slide_type": "subslide"
    }
   },
   "source": [
    "<h1>Dominando Evolução Temporal <small>Pacote de Onda Plana</small></h1>\n",
    "\n",
    "----\n",
    "\n",
    "Utilizamos a métrica de Minkowski com $p=3$ para verificar que o método Pseudo-Espectral é substancialmente mais rápido e mais preciso para a maioria das combinações de parâmetros:\n",
    "\n",
    "<img src=\"figuras/onda_plana_comparacao_minkowski.png\" alt=\"stdvar_skewness\" width=\"100%\" align=\"center\" />"
   ]
  },
  {
   "cell_type": "markdown",
   "metadata": {
    "ExecuteTime": {
     "end_time": "2018-09-18T20:22:55.603747Z",
     "start_time": "2018-09-18T20:22:55.470537Z"
    },
    "slideshow": {
     "slide_type": "slide"
    }
   },
   "source": [
    "<h1>Dominando Autovalores e Autovetores <small>Oscilador Harmônico Quântico</small></h1>\n",
    "\n",
    "----\n",
    "\n",
    "Escolhemos um problema com solução analítica para testar o método **Pseudo-Espectral**.\n",
    "\n",
    "\\begin{equation}\n",
    "V(z) = \\frac{m_\\mathrm{e} \\omega^2 z^2}{2} \\,\\,;\\,\\,E_\\mathrm{n} = \\hbar \\omega \\left( \\mathrm{n} + \\frac{1}{2} \\right)\n",
    "\\end{equation}\n",
    "\n",
    "Cujas autofunções são da forma:\n",
    "\n",
    "\\begin{equation}\n",
    "\\psi_\\mathrm{n} (z) = \\frac{1}{\\sqrt{2^\\mathrm{n} \\mathrm{n}!}} \\left( \\frac{m_\\mathrm{e} \\omega}{\\pi \\hbar} \\right)^{1/4} \\exp \\left( - \\frac{m_\\mathrm{e} \\omega z^2}{2 \\hbar} \\right) H_\\mathrm{n} \\left( \\sqrt{\\frac{m_\\mathrm{e} \\omega}{\\hbar}} z\\right)\n",
    "\\end{equation}\n",
    "\n",
    "\\begin{equation}\n",
    "H_\\mathrm{n} (z) = (-1)^\\mathrm{n} e^{z^2} \\frac{d^\\mathrm{n}}{dz^\\mathrm{n}} e^{-z^2}\n",
    "\\end{equation}\n",
    "\n",
    "Para estimar o erro, escolhemos a distância euclidiana quadrada: \n",
    "\n",
    "\\begin{equation}\n",
    "D_\\mathrm{e} (\\varphi_\\mathrm{n},\\psi_\\mathrm{n}) = \\sqrt{\\sum_\\mathrm{i} |\\varphi_\\mathrm{n} (z_\\mathrm{i}) - \\psi_\\mathrm{n} (z_\\mathrm{i})|^2}\n",
    "\\end{equation}\n",
    "\n",
    "Onde $\\varphi_\\mathrm{n}$ é a solução numérica e $\\psi_\\mathrm{n}$ a solução analítica."
   ]
  },
  {
   "cell_type": "markdown",
   "metadata": {
    "slideshow": {
     "slide_type": "subslide"
    }
   },
   "source": [
    "<h1>Dominando Autovalores e Autovetores <small>Oscilador Harmônico Quântico</small></h1>\n",
    "\n",
    "----\n",
    "\n",
    "Níves de energia para $\\lambda =8,1 \\mu$m, onde $\\omega=2\\pi c / \\lambda$ e $c$ a velocidade da luz no vácuo.\n",
    "\n",
    "<img src=\"figuras/oscilador_harmonico_autovetores_2.png\" alt=\"oscilador_harmonico_autovetores_2\" width=\"100%\" class=\"center\" align=\"center\" />"
   ]
  },
  {
   "cell_type": "markdown",
   "metadata": {
    "slideshow": {
     "slide_type": "subslide"
    }
   },
   "source": [
    "<h1>Dominando Autovalores e Autovetores <small>Oscilador Harmônico Quântico</small></h1>\n",
    "\n",
    "----\n",
    "\n",
    "Evolução em tempo imaginário utilizando o método **Pseudo-Espectral**:\n",
    "\n",
    "<video width=\"100%\" controls>\n",
    "  <source src=\"apresentacao/oscilador_harmonico_evoluindo.webm\" type=\"video/mp4\">\n",
    "    Your browser does not support the video tag.\n",
    "</video>"
   ]
  },
  {
   "cell_type": "markdown",
   "metadata": {
    "slideshow": {
     "slide_type": "subslide"
    }
   },
   "source": [
    "<h1>Dominando Autovalores e Autovetores <small>Oscilador Harmônico Quântico</small></h1>\n",
    "\n",
    "----\n",
    "\n",
    "Calculamos a precisão dos resultados utilizando a distância euclidiana quadrada $D_\\mathrm{e} (\\varphi_\\mathrm{n},\\psi_\\mathrm{n})$ entre os autovetores numéricos ($\\varphi_\\mathrm{n}$) e analíticos ($\\psi_\\mathrm{n}$):\n",
    "\n",
    "<img src=\"figuras/oscilador_harmonico_erro_por_tempo.png\" alt=\"oscilador_harmonico_erro_por_tempo\" width=\"100%\" align=\"center\" />"
   ]
  },
  {
   "cell_type": "markdown",
   "metadata": {
    "slideshow": {
     "slide_type": "slide"
    }
   },
   "source": [
    "<h1>Dominando Autovalores e Autovetores <small>Poço Quadrado Finito</small></h1>\n",
    "\n",
    "----\n",
    "\n",
    "Testamos o método Pseudo-Espectral para um potencial mais semelhante a uma heteroestrutura semicondutora."
   ]
  }
 ],
 "metadata": {
  "author": "m",
  "celltoolbar": "Slideshow",
  "kernelspec": {
   "display_name": "Python 3",
   "language": "python",
   "name": "python3"
  },
  "language_info": {
   "codemirror_mode": {
    "name": "ipython",
    "version": 3
   },
   "file_extension": ".py",
   "mimetype": "text/x-python",
   "name": "python",
   "nbconvert_exporter": "python",
   "pygments_lexer": "ipython3",
   "version": "3.6.3"
  },
  "latex_envs": {
   "LaTeX_envs_menu_present": true,
   "autoclose": false,
   "autocomplete": true,
   "bibliofile": "biblio.bib",
   "cite_by": "apalike",
   "current_citInitial": 1,
   "eqLabelWithNumbers": true,
   "eqNumInitial": 1,
   "hotkeys": {
    "equation": "Ctrl-E",
    "itemize": "Ctrl-I"
   },
   "labels_anchors": false,
   "latex_user_defs": false,
   "report_style_numbering": false,
   "user_envs_cfg": false
  },
  "toc": {
   "base_numbering": 1,
   "nav_menu": {},
   "number_sections": true,
   "sideBar": true,
   "skip_h1_title": false,
   "title_cell": "Table of Contents",
   "title_sidebar": "Contents",
   "toc_cell": false,
   "toc_position": {
    "height": "calc(100% - 180px)",
    "left": "10px",
    "top": "150px",
    "width": "319px"
   },
   "toc_section_display": true,
   "toc_window_display": false
  },
  "varInspector": {
   "cols": {
    "lenName": 16,
    "lenType": 16,
    "lenVar": 40
   },
   "kernels_config": {
    "python": {
     "delete_cmd_postfix": "",
     "delete_cmd_prefix": "del ",
     "library": "var_list.py",
     "varRefreshCmd": "print(var_dic_list())"
    },
    "r": {
     "delete_cmd_postfix": ") ",
     "delete_cmd_prefix": "rm(",
     "library": "var_list.r",
     "varRefreshCmd": "cat(var_dic_list()) "
    }
   },
   "types_to_exclude": [
    "module",
    "function",
    "builtin_function_or_method",
    "instance",
    "_Feature"
   ],
   "window_display": false
  }
 },
 "nbformat": 4,
 "nbformat_minor": 2
}
