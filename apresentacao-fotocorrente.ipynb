{
 "cells": [
  {
   "cell_type": "markdown",
   "metadata": {},
   "source": [
    "# Gerando informações para a apresentação"
   ]
  },
  {
   "cell_type": "code",
   "execution_count": 10,
   "metadata": {
    "ExecuteTime": {
     "end_time": "2018-09-24T01:30:20.754374Z",
     "start_time": "2018-09-24T01:30:20.749197Z"
    },
    "init_cell": true
   },
   "outputs": [],
   "source": [
    "# python standard\n",
    "import os\n",
    "import time\n",
    "import re\n",
    "from multiprocessing import Pool, TimeoutError\n",
    "from datetime import datetime\n",
    "\n",
    "# third-party\n",
    "import numpy as np\n",
    "import pandas as pd\n",
    "import scipy.constants as cte\n",
    "from scipy.integrate import simps\n",
    "from scipy.sparse import diags\n",
    "from scipy.linalg import inv\n",
    "from scipy.fftpack import fft, ifft, fftfreq\n",
    "from scipy.stats import norm, skewnorm\n",
    "from scipy.spatial.distance import cdist\n",
    "from sklearn.preprocessing import StandardScaler\n",
    "from scipy.special import legendre, expit\n",
    "from scipy.signal import gaussian\n",
    "\n",
    "# locals\n",
    "from core.utilidades import *"
   ]
  },
  {
   "cell_type": "code",
   "execution_count": 11,
   "metadata": {
    "ExecuteTime": {
     "end_time": "2018-09-24T01:30:20.773830Z",
     "start_time": "2018-09-24T01:30:20.757316Z"
    },
    "init_cell": true
   },
   "outputs": [],
   "source": [
    "import locale\n",
    "locale.setlocale(locale.LC_NUMERIC, \"pt_BR.UTF-8\")\n",
    "\n",
    "import matplotlib.style\n",
    "import matplotlib as mpl\n",
    "mpl.style.use('classic')\n",
    "\n",
    "%matplotlib inline\n",
    "import matplotlib.pyplot as plt\n",
    "plt.style.use('mestrado')"
   ]
  },
  {
   "cell_type": "code",
   "execution_count": 12,
   "metadata": {
    "ExecuteTime": {
     "end_time": "2018-09-24T01:30:20.789854Z",
     "start_time": "2018-09-24T01:30:20.777686Z"
    },
    "init_cell": true
   },
   "outputs": [],
   "source": [
    "# ## Constantes físicas\n",
    "au_l = cte.value('atomic unit of length')\n",
    "au_t = cte.value('atomic unit of time')\n",
    "au_e = cte.value('atomic unit of energy')\n",
    "au_v = cte.value('atomic unit of electric potential')\n",
    "au_ef = cte.value('atomic unit of electric field')\n",
    "me = cte.value('electron mass')\n",
    "c = cte.value('speed of light in vacuum')\n",
    "q = cte.value('elementary charge')\n",
    "hbar_ev = cte.value('Planck constant over 2 pi in eV s')\n",
    "hbar = cte.value('Planck constant over 2 pi')\n",
    "h = cte.value('Planck constant')\n",
    "ev = cte.value('electron volt')\n",
    "# outras relacoes de interesse\n",
    "au2ang = au_l / 1e-10\n",
    "au2ev = au_e / ev\n",
    "hbar_au = 1.0\n",
    "me_au = 1.0\n",
    "\n",
    "# onda plana\n",
    "grid_tempo = np.linspace(0.0, 2.1739442773545673e-14, 20)\n",
    "alias = {\n",
    "    'Solucao Analitica': '',\n",
    "    'Pseudo-Espectral': 'pe',\n",
    "    'Crank-Nicolson': 'cn',\n",
    "    'Runge-Kutta': 'rk'\n",
    "}\n",
    "metodos = list(alias.keys())\n",
    "\n",
    "\n",
    "parametros = {\n",
    "    'onda_plana_parametro_bom': {\n",
    "        'L': 100.0,\n",
    "        'N': 1024,\n",
    "        'dt': 1e-18\n",
    "    },\n",
    "    'onda_plana_parametro_ruim': {\n",
    "        'L': 850.0,\n",
    "        'N': 256,\n",
    "        'dt': 1e-16\n",
    "    }\n",
    "}"
   ]
  },
  {
   "cell_type": "markdown",
   "metadata": {},
   "source": [
    "# Gerando fotocorrente"
   ]
  },
  {
   "cell_type": "code",
   "execution_count": 13,
   "metadata": {
    "ExecuteTime": {
     "end_time": "2018-09-24T01:30:20.800481Z",
     "start_time": "2018-09-24T01:30:20.792733Z"
    },
    "init_cell": true
   },
   "outputs": [],
   "source": [
    "# dataframe de pandas com valores utilizados para calculos\n",
    "device = pd.DataFrame()\n",
    "\n",
    "N = 1024  # tamanho padrao do grid\n",
    "L = 1000.0  # tamanho padrao do sistema em angstrom\n",
    "dt = 1e-17  # incremento de tempo padrao em segundos\n",
    "device['z_ang'] = np.linspace(-L/2, L/2, N)  # malha espacial em angstrom"
   ]
  },
  {
   "cell_type": "code",
   "execution_count": 14,
   "metadata": {
    "ExecuteTime": {
     "end_time": "2018-09-24T01:30:20.813783Z",
     "start_time": "2018-09-24T01:30:20.803258Z"
    },
    "init_cell": true
   },
   "outputs": [],
   "source": [
    "def algaas_gap(x):\n",
    "    \"\"\"Retorna o gap do material ja calculado em funcao da fracao de Aluminio\n",
    "    utilizamos os valores exatos utilizados pelos referidos autores\n",
    "\n",
    "    Params\n",
    "    ------\n",
    "    x : float\n",
    "        a fracao de aluminio, entre 0 e 1\n",
    "\n",
    "    Returns\n",
    "    -------\n",
    "\n",
    "    O gap em eV\n",
    "    \"\"\"\n",
    "    if x == 0.2:\n",
    "        return 0.0\n",
    "    elif x == 0.4:\n",
    "        return 0.185897\n",
    "    return -0.185897\n",
    "\n",
    "\n",
    "def algaas_meff(x):\n",
    "    \"\"\"Retorna a massa efetiva do AlGaAs em funcao da fracao de Aluminio\n",
    "    assim como os referidos autores, utilizamos a massa efetiva do \n",
    "    eletron no GaAs ao longo de todo o material\n",
    "\n",
    "    Params\n",
    "    ------\n",
    "    x : float\n",
    "        a fracao de aluminio, entre 0 e 1\n",
    "\n",
    "    Returns\n",
    "    -------\n",
    "\n",
    "    A massa efetiva do eletron no AlGaAs\n",
    "    \"\"\"\n",
    "    return 0.067\n",
    "\n",
    "\n",
    "def x_shape(z):\n",
    "    \"\"\"Utilizamos a concentracao de Aluminio para determinar o perfil do\n",
    "    potencial\n",
    "\n",
    "    Params\n",
    "    ------\n",
    "\n",
    "    z : float\n",
    "        posicao no eixo z em angstrom\n",
    "\n",
    "    Returns\n",
    "    -------\n",
    "\n",
    "    A concentracao de Aluminio na posicao informada\n",
    "    \"\"\"\n",
    "    # concentracoes e larguras do sistema\n",
    "    xd = 0.2  # concentracao no espaco entre poco e barreira\n",
    "    xb = 0.4  # concentracao na barreira\n",
    "    xw = 0.0  # concentracao no poco\n",
    "    wl = 50.0  # largura do poco em angstrom\n",
    "    bl = 50.0  # largura da barreira em angstrom\n",
    "    dl = 40.0  # espacao entre poco e barreira em angstrom\n",
    "\n",
    "    if np.abs(z) < wl/2:\n",
    "        return xw\n",
    "    elif np.abs(z) < wl/2+dl:\n",
    "        return xd\n",
    "    elif np.abs(z) < wl/2+dl+bl:\n",
    "        return xb\n",
    "    return xd"
   ]
  },
  {
   "cell_type": "code",
   "execution_count": 15,
   "metadata": {
    "ExecuteTime": {
     "end_time": "2018-09-24T01:30:20.832972Z",
     "start_time": "2018-09-24T01:30:20.816371Z"
    },
    "init_cell": true
   },
   "outputs": [],
   "source": [
    "device['x'] = device['z_ang'].apply(x_shape)\n",
    "device['v_ev'] = device['x'].apply(algaas_gap)\n",
    "device['meff'] = device['x'].apply(algaas_meff)\n",
    "\n",
    "pb = list(device['v_ev']).index(0.185897)  # pontos antes do dispositivo\n",
    "pa = N-1-pb  # pontos depois do dispositivo"
   ]
  },
  {
   "cell_type": "code",
   "execution_count": null,
   "metadata": {
    "ExecuteTime": {
     "end_time": "2018-09-23T17:38:15.027293Z",
     "start_time": "2018-09-23T17:38:13.167892Z"
    }
   },
   "outputs": [],
   "source": [
    "ax = device.plot(x='z_ang', y='v_ev', grid=True, legend=False)\n",
    "ax.set_xlabel(r'$z$ (\\AA)')\n",
    "ax.set_ylabel(r'Energia (eV)')\n",
    "plt.savefig('figuras/poco_dupla_barreira_potencial_simples.png')"
   ]
  },
  {
   "cell_type": "code",
   "execution_count": 16,
   "metadata": {
    "ExecuteTime": {
     "end_time": "2018-09-24T01:30:20.877474Z",
     "start_time": "2018-09-24T01:30:20.838144Z"
    },
    "init_cell": true
   },
   "outputs": [],
   "source": [
    "bias = 5.0  # KV/cm LIGAR NO CASO DE FOTOCORRENTE\n",
    "bias_v_cm = bias * 1e3\n",
    "bias_v_m = 1e2 * bias_v_cm\n",
    "bias_j_m = bias_v_m * q\n",
    "\n",
    "def __constroi_bias(z):\n",
    "    \"\"\"constroi o potencial estatico usado como bias/vies, nao usar fora desta\n",
    "    celula\n",
    "\n",
    "    Params\n",
    "    ------\n",
    "\n",
    "    z : float\n",
    "        uma posicao no grid em angstrom\n",
    "\n",
    "    Returns\n",
    "    -------\n",
    "\n",
    "    O bias na posicao indicada\n",
    "    \"\"\"\n",
    "    border_left = device['z_ang'].values[pb]\n",
    "    border_right = device['z_ang'].values[pa]\n",
    "\n",
    "    def f_st_ev(z): return -(z*1e-10)*(bias_j_m)/ev\n",
    "\n",
    "    if z <= border_left:\n",
    "        return f_st_ev(border_left)\n",
    "    elif z >= border_right:\n",
    "        return f_st_ev(border_right)\n",
    "    return f_st_ev(z)\n",
    "\n",
    "\n",
    "device['bias_ev'] = device['z_ang'].apply(__constroi_bias)\n",
    "device['v_st_ev'] = device['v_ev']+device['bias_ev']"
   ]
  },
  {
   "cell_type": "code",
   "execution_count": null,
   "metadata": {
    "ExecuteTime": {
     "end_time": "2018-09-23T17:38:20.251829Z",
     "start_time": "2018-09-23T17:38:19.211935Z"
    }
   },
   "outputs": [],
   "source": [
    "ax = device.plot(x='z_ang', y='v_st_ev', grid=True, legend=False)\n",
    "ax.set_xlabel(r'$z$ (\\AA)')\n",
    "ax.set_ylabel(r'Energia (eV)')\n",
    "plt.savefig('figuras/poco_dupla_barreira_potencial_com_bias.png')"
   ]
  },
  {
   "cell_type": "code",
   "execution_count": 17,
   "metadata": {
    "ExecuteTime": {
     "end_time": "2018-09-24T01:30:20.892107Z",
     "start_time": "2018-09-24T01:30:20.880940Z"
    },
    "init_cell": true
   },
   "outputs": [],
   "source": [
    "device['z_au'] = device['z_ang'].apply(lambda z: z / au2ang)\n",
    "device['v_au'] = device['v_st_ev'].apply(lambda z: z / au2ev)\n",
    "dt_au = dt / au_t"
   ]
  },
  {
   "cell_type": "code",
   "execution_count": 18,
   "metadata": {
    "ExecuteTime": {
     "end_time": "2018-09-24T01:30:27.892795Z",
     "start_time": "2018-09-24T01:30:20.895784Z"
    },
    "init_cell": true
   },
   "outputs": [],
   "source": [
    "def solve_eigenproblem(H):\n",
    "    \"\"\"\n",
    "    Solve an eigenproblem and return the eigenvalues and eigenvectors.\n",
    "    \"\"\"\n",
    "    vals, vecs = np.linalg.eig(H)\n",
    "    idx = np.real(vals).argsort()\n",
    "    vals = vals[idx]\n",
    "    vecs = vecs.T[idx]\n",
    "\n",
    "    return vals, vecs\n",
    "\n",
    "dev = device.copy()\n",
    "dz = dev['z_au'][1]-dev['z_au'][0]\n",
    "dz2 = dz**2\n",
    "V = dev['v_au'].values\n",
    "m = dev['meff'].values\n",
    "z = dev['z_au'].values\n",
    "v_ev = V*au2ev\n",
    "z_ang = z*au2ang\n",
    "\n",
    "# Desloca o potencial do Hamiltoniano por shift\n",
    "sub_diag = np.zeros(N-1, dtype=np.complex_)\n",
    "main_diag = np.zeros(N, dtype=np.complex_)\n",
    "\n",
    "# constroi as diagnais da matriz, a principal e as duas semi\n",
    "# principais\n",
    "for i in range(N):\n",
    "    try:\n",
    "        main_diag[i] = (0.5/dz2)*(1.0/idf(m, i+0.5) + 1.0/idf(m, i-0.5))+(V[i])\n",
    "    except:\n",
    "        main_diag[i] = 0.0\n",
    "\n",
    "    if i < N-1:\n",
    "        sub_diag[i] = -(0.5/dz2)*(1.0/idf(m, i+0.5))\n",
    "\n",
    "diagonals = [main_diag, sub_diag, sub_diag]\n",
    "A = diags(diagonals, [0, -1, 1]).toarray()\n",
    "\n",
    "res = solve_eigenproblem(A)"
   ]
  },
  {
   "cell_type": "code",
   "execution_count": null,
   "metadata": {
    "ExecuteTime": {
     "end_time": "2018-09-23T17:50:13.205563Z",
     "start_time": "2018-09-23T17:50:06.429241Z"
    }
   },
   "outputs": [],
   "source": [
    "autovalores = res[0][0:16]\n",
    "res2 = interacao_inversa(z, V, m, autovalores=autovalores, remover_repetidos=False)\n",
    "autovalores = np.copy(res2['autovalores'])\n",
    "autovetores = np.copy(res2['autovetores'])\n",
    "fig, ax = plt.subplots()\n",
    "ax.plot(z_ang, v_ev, label=r\"$V(z)$\") \n",
    "\n",
    "for i, vec in enumerate(autovetores):\n",
    "    vec /= np.sqrt(simps(vec*vec.conj(),z_ang))\n",
    "    vec2 = 2*np.abs(vec)**2+autovalores[i]*au2ev\n",
    "    ax.plot(z_ang, vec2)\n",
    "ax.set_xlabel(r'$z$ (\\AA)')\n",
    "ax.set_ylabel(r'Energia (eV)')\n",
    "plt.legend()\n",
    "plt.savefig('figuras/poco_dupla_barreira_potencial_func_onda_tudo.png')\n",
    "plt.show()    "
   ]
  },
  {
   "cell_type": "code",
   "execution_count": null,
   "metadata": {
    "ExecuteTime": {
     "end_time": "2018-09-23T18:34:10.494545Z",
     "start_time": "2018-09-23T18:34:09.241307Z"
    }
   },
   "outputs": [],
   "source": [
    "autovalores = res[0][[0,7,14]]\n",
    "res2 = interacao_inversa(z, V, m, autovalores=autovalores)\n",
    "autovalores = np.copy(res2['autovalores'])\n",
    "autovetores = np.copy(res2['autovetores'])"
   ]
  },
  {
   "cell_type": "code",
   "execution_count": null,
   "metadata": {
    "ExecuteTime": {
     "end_time": "2018-09-23T18:33:59.645312Z",
     "start_time": "2018-09-23T18:33:57.448237Z"
    }
   },
   "outputs": [],
   "source": [
    "fig, ax = plt.subplots()\n",
    "ax.plot(z_ang, v_ev, label=r\"$V(z)$\") \n",
    "\n",
    "for i, vec in enumerate(autovetores):\n",
    "    vec /= np.sqrt(simps(vec*vec.conj(),z_ang))\n",
    "    vec2 = 2*np.abs(vec)**2+autovalores[i]*au2ev\n",
    "    ax.plot(z_ang, vec2)#, label=r'$|\\psi_{}(z)|^2$'.format(i))\n",
    "    ax.text(-400, autovalores[i]*au2ev+0.01, r'$|\\psi_{}(z)|^2$'.format(i))\n",
    "ax.set_xlabel(r'$z$ (\\AA)')\n",
    "ax.set_ylabel(r'Energia (eV)')\n",
    "plt.legend()\n",
    "plt.savefig('figuras/poco_dupla_barreira_potencial_func_onda.png')\n",
    "plt.show()    "
   ]
  },
  {
   "cell_type": "code",
   "execution_count": null,
   "metadata": {
    "ExecuteTime": {
     "end_time": "2018-09-23T18:34:43.967883Z",
     "start_time": "2018-09-23T18:34:42.819083Z"
    }
   },
   "outputs": [],
   "source": [
    "fig, ax = plt.subplots()\n",
    "ax.plot(z_ang, v_ev, label=r\"$V(z)$\") \n",
    "\n",
    "for i, vec in enumerate(autovetores[0:1]):\n",
    "    vec /= np.sqrt(simps(vec*vec.conj(),z_ang))\n",
    "    vec2 = vec/2+autovalores[i]*au2ev\n",
    "    ax.plot(z_ang, vec2)#, label=r'$|\\psi_{}(z)|^2$'.format(i))\n",
    "    ax.text(-400, autovalores[i]*au2ev+0.01, r'$\\psi(z,0) = \\psi_{}(z)$'.format(i))\n",
    "ax.set_xlabel(r'$z$ (\\AA)')\n",
    "ax.set_ylabel(r'Energia (eV)')\n",
    "plt.legend()\n",
    "plt.savefig('figuras/poco_dupla_barreira_potencial_func_onda_inicial.png')\n",
    "plt.show()    "
   ]
  },
  {
   "cell_type": "code",
   "execution_count": null,
   "metadata": {
    "ExecuteTime": {
     "end_time": "2018-09-23T18:34:49.119684Z",
     "start_time": "2018-09-23T18:34:49.100249Z"
    }
   },
   "outputs": [],
   "source": [
    "energy = 0.15317725752508362658\n",
    "fosc=5.0\n",
    "T=1e-12\n",
    "fosc_j_m = fosc * 1e2 * 1e3 * q  # KV/cm -> J/m\n",
    "T_au = T / au_t\n",
    "iters = int(T_au / dt_au)\n",
    "z_au = device.z_au.values\n",
    "t_grid_au = np.linspace(0.0, T_au, iters)\n",
    "\n",
    "psi = np.array(autovetores[0], dtype=np.complex_)\n",
    "psi /= np.sqrt(simps(psi*psi.conj(), device.z_au))\n",
    "\n",
    "meff = device['meff'].values\n",
    "z_au = device['z_au'].values\n",
    "dz_au = z_au[1]-z_au[0]\n",
    "k_au = fftfreq(N, d=dz_au)\n",
    "j_t = np.zeros(iters)\n",
    "\n",
    "def j_p(p):\n",
    "    \"\"\"J=1/(2 i m*) (psi* d(psi)/dz - psi d(psi*)/dz) \"\"\"\n",
    "    dzp = z_au[p+1]-z_au[p-1]\n",
    "    pcdp = psi[p].conj() * (psi[p+1]-psi[p-1]) / dzp\n",
    "    pdpc = psi[p] * (psi[p+1].conj()-psi[p-1].conj()) / dzp\n",
    "    return ((-0.5j/(meff[p])) * (pcdp-pdpc)).real\n",
    "\n",
    "absorbing = device['z_ang'].apply(\n",
    "    lambda z: min(expit((450-z)/5), expit((z+450)/5)))\n",
    "absorbing = absorbing.values\n",
    "\n",
    "z0_ang = device['z_ang'].values[0]\n",
    "fosc_j = device['z_ang'].apply(lambda z: (z0_ang-z) * 1e-10 * fosc_j_m)\n",
    "fosc_j = device['z_ang'].apply(lambda z: z * 1e-10 * fosc_j_m)\n",
    "fosc_ev = fosc_j / ev\n",
    "fosc_au = fosc_ev / au2ev\n",
    "omega_au = (energy / au2ev) / hbar_au\n",
    "v_au_ti = device['v_au'].values\n",
    "exp_t = np.exp(- 0.5j * (2 * np.pi * k_au) ** 2 * dt_au / meff)\n",
    "#exp_v2h = np.exp(- 0.5j * v_au_ti * dt_au)\n",
    "exp_v2h = np.exp(- 1.0j * v_au_ti * dt_au)\n",
    "#f_espec = - 0.5j * fosc_au * dt_au\n",
    "f_espec = - 1.0j * fosc_au * dt_au"
   ]
  },
  {
   "cell_type": "code",
   "execution_count": null,
   "metadata": {
    "ExecuteTime": {
     "end_time": "2018-09-23T16:54:06.463127Z",
     "start_time": "2018-09-23T16:47:26.389097Z"
    }
   },
   "outputs": [],
   "source": [
    "j = 1\n",
    "for i, t_au in enumerate(t_grid_au[0:10000]):\n",
    "    if i % 10 == 0 or i == len(t_grid_au) - 1:\n",
    "        fig, ax = plt.subplots()\n",
    "        pot = (v_au_ti + fosc_au * np.sin(omega_au * t_au))*au2ev\n",
    "        ax.plot(z_ang, pot, label=r\"$V'(z)+e F_\\mathrm{osc} \\sin(\\omega t)$\") \n",
    "        ax.set_title(r\"t = \" + r\"${}$ s\".format(as_si(t_au * au_t, 2)), fontsize=16)\n",
    "        ax.set_xlabel(r'$z$ (\\AA)')\n",
    "        ax.set_ylabel(r'Energia (eV)')\n",
    "        ax.set_xlim(-600.0, 600.0)\n",
    "        ax.set_ylim(-0.25, 0.2)        \n",
    "        plt.savefig('apresentacao/saidas/poco_dupla_barreira_potencial_osc_{0:04d}.png'.format(j))\n",
    "        plt.legend(loc='lower left')\n",
    "        plt.close('all')\n",
    "        j += 1"
   ]
  },
  {
   "cell_type": "code",
   "execution_count": null,
   "metadata": {
    "ExecuteTime": {
     "start_time": "2018-09-23T18:34:56.202Z"
    }
   },
   "outputs": [],
   "source": [
    "sub_diag = np.zeros(N-1, dtype=np.complex_)\n",
    "for i in range(N):\n",
    "    if i < N-1:\n",
    "        sub_diag[i] = -(0.5/dz2)*(1.0/idf(m, i+0.5))\n",
    "\n",
    "j = 1\n",
    "norma_0 = np.sqrt(simps(psi*psi.conj(),z_ang)).real\n",
    "for i, t_au in enumerate(t_grid_au):\n",
    "    exp_v2 = exp_v2h * np.exp(f_espec * np.sin(omega_au*t_au))\n",
    "    psi = ifft(exp_t * fft(exp_v2 * psi)) * absorbing\n",
    "    if i % 150 == 0 or i == len(t_grid_au) - 1:        \n",
    "        fig, ax = plt.subplots()\n",
    "        pot = (v_au_ti + fosc_au * np.sin(omega_au * t_au))\n",
    "        ax.plot(z_ang, pot * au2ev, label=r\"$V''(z, t)$\")\n",
    "        norma = np.sqrt(simps(psi*psi.conj(),z_ang)).real\n",
    "        vec = psi / norma\n",
    "        # Desloca o potencial do Hamiltoniano por shift\n",
    "        main_diag = np.zeros(N, dtype=np.complex_)\n",
    "        # constroi as diagnais da matriz, a principal e as duas semi\n",
    "        # principais\n",
    "        main_diag = np.array([(0.5/dz2)*(1.0/idf(m, i+0.5) + 1.0/idf(m, i-0.5))+(pot[i]) for i in range(N)], dtype=np.complex_)\n",
    "        diagonals = [main_diag, sub_diag, sub_diag]\n",
    "        H = diags(diagonals, [0, -1, 1]).toarray()        \n",
    "        autoval = simps(psi.conj() * (H.dot(psi)), z_au).real * au2ev\n",
    "        vec2 = psi/2 + autoval        \n",
    "        ax.plot(z_ang, vec2, label=r\"$\\psi(z,t)$\")\n",
    "\n",
    "        ax.text(-550.0, 0.15, r\"t = \" + r\"${}$ s\".format(as_si(t_au * au_t, 2)))\n",
    "        ax.text(-550.0, 0.10, r\"$\\int \\, dz \\, |\\psi(z,t)|^2 = \" + dummy_comma(\"{:.1f}$ %\".format(100*norma/norma_0)))\n",
    "        ax.text(-550.0, 0.05, r\"$\\langle E \\rangle = \" + dummy_comma(\"{:.5f}$ eV\".format(autoval)))\n",
    "        \n",
    "        # ax.set_title(r\"t = \" + r\"${}$ s\".format(as_si(t_au * au_t, 2)), fontsize=16)\n",
    "        ax.set_xlabel(r'$z$ (\\AA)')\n",
    "        ax.set_ylabel(r'Energia (eV)')\n",
    "        ax.set_xlim(-600.0, 600.0)\n",
    "        ax.set_ylim(-0.2, 0.2)\n",
    "        plt.legend()\n",
    "        plt.savefig('apresentacao/saidas/poco_dupla_barreira_evolucao_{0:04d}.png'.format(j))\n",
    "        plt.close('all')\n",
    "        j += 1"
   ]
  },
  {
   "cell_type": "code",
   "execution_count": null,
   "metadata": {},
   "outputs": [],
   "source": []
  }
 ],
 "metadata": {
  "celltoolbar": "Initialization Cell",
  "kernelspec": {
   "display_name": "Python 3",
   "language": "python",
   "name": "python3"
  },
  "language_info": {
   "codemirror_mode": {
    "name": "ipython",
    "version": 3
   },
   "file_extension": ".py",
   "mimetype": "text/x-python",
   "name": "python",
   "nbconvert_exporter": "python",
   "pygments_lexer": "ipython3",
   "version": "3.6.3"
  },
  "latex_envs": {
   "LaTeX_envs_menu_present": true,
   "autoclose": false,
   "autocomplete": true,
   "bibliofile": "biblio.bib",
   "cite_by": "apalike",
   "current_citInitial": 1,
   "eqLabelWithNumbers": false,
   "eqNumInitial": 1,
   "hotkeys": {
    "equation": "Ctrl-E",
    "itemize": "Ctrl-I"
   },
   "labels_anchors": false,
   "latex_user_defs": false,
   "report_style_numbering": false,
   "user_envs_cfg": false
  },
  "toc": {
   "base_numbering": 1,
   "nav_menu": {},
   "number_sections": true,
   "sideBar": true,
   "skip_h1_title": false,
   "title_cell": "Table of Contents",
   "title_sidebar": "Contents",
   "toc_cell": false,
   "toc_position": {},
   "toc_section_display": true,
   "toc_window_display": false
  },
  "varInspector": {
   "cols": {
    "lenName": 16,
    "lenType": 16,
    "lenVar": 40
   },
   "kernels_config": {
    "python": {
     "delete_cmd_postfix": "",
     "delete_cmd_prefix": "del ",
     "library": "var_list.py",
     "varRefreshCmd": "print(var_dic_list())"
    },
    "r": {
     "delete_cmd_postfix": ") ",
     "delete_cmd_prefix": "rm(",
     "library": "var_list.r",
     "varRefreshCmd": "cat(var_dic_list()) "
    }
   },
   "types_to_exclude": [
    "module",
    "function",
    "builtin_function_or_method",
    "instance",
    "_Feature"
   ],
   "window_display": false
  }
 },
 "nbformat": 4,
 "nbformat_minor": 2
}
