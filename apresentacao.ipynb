{
 "cells": [
  {
   "cell_type": "markdown",
   "metadata": {},
   "source": [
    "# Gerando informações para a apresentação\n",
    "\n",
    "Este notebook não possui nenhuma informação especial.\n",
    "Serve apenas de auxílio na geração das imagens utilizadas para animação."
   ]
  },
  {
   "cell_type": "code",
   "execution_count": 1,
   "metadata": {
    "ExecuteTime": {
     "end_time": "2018-09-29T23:50:22.319735Z",
     "start_time": "2018-09-29T23:50:20.182604Z"
    },
    "init_cell": true
   },
   "outputs": [],
   "source": [
    "# python standard\n",
    "import os\n",
    "import time\n",
    "import re\n",
    "from multiprocessing import Pool, TimeoutError\n",
    "from datetime import datetime\n",
    "\n",
    "# third-party\n",
    "import numpy as np\n",
    "import pandas as pd\n",
    "import scipy.constants as cte\n",
    "from scipy.integrate import simps\n",
    "from scipy.sparse import diags\n",
    "from scipy.linalg import inv\n",
    "from scipy.fftpack import fft, ifft, fftfreq\n",
    "from scipy.stats import norm, skewnorm\n",
    "from scipy.spatial.distance import cdist\n",
    "from sklearn.preprocessing import StandardScaler\n",
    "from scipy.special import legendre, expit\n",
    "from scipy.signal import gaussian\n",
    "\n",
    "# locals\n",
    "from core.onda_plana import evolucao_analitica, evolucao_numerica\n",
    "from core.oscilador_harmonico import solucao_analitica, solucao_numerica\n",
    "from core.utilidades import *"
   ]
  },
  {
   "cell_type": "code",
   "execution_count": 2,
   "metadata": {
    "ExecuteTime": {
     "end_time": "2018-09-29T23:50:22.505179Z",
     "start_time": "2018-09-29T23:50:22.321806Z"
    },
    "init_cell": true
   },
   "outputs": [],
   "source": [
    "import locale\n",
    "locale.setlocale(locale.LC_NUMERIC, \"pt_BR.UTF-8\")\n",
    "\n",
    "import matplotlib.style\n",
    "import matplotlib as mpl\n",
    "mpl.style.use('classic')\n",
    "\n",
    "%matplotlib inline\n",
    "import matplotlib.pyplot as plt\n",
    "plt.style.use('mestrado')"
   ]
  },
  {
   "cell_type": "code",
   "execution_count": 3,
   "metadata": {
    "ExecuteTime": {
     "end_time": "2018-09-29T23:50:22.520739Z",
     "start_time": "2018-09-29T23:50:22.507200Z"
    },
    "init_cell": true
   },
   "outputs": [],
   "source": [
    "# ## Constantes físicas\n",
    "au_l = cte.value('atomic unit of length')\n",
    "au_t = cte.value('atomic unit of time')\n",
    "au_e = cte.value('atomic unit of energy')\n",
    "au_v = cte.value('atomic unit of electric potential')\n",
    "au_ef = cte.value('atomic unit of electric field')\n",
    "me = cte.value('electron mass')\n",
    "c = cte.value('speed of light in vacuum')\n",
    "q = cte.value('elementary charge')\n",
    "hbar_ev = cte.value('Planck constant over 2 pi in eV s')\n",
    "hbar = cte.value('Planck constant over 2 pi')\n",
    "h = cte.value('Planck constant')\n",
    "ev = cte.value('electron volt')\n",
    "# outras relacoes de interesse\n",
    "au2ang = au_l / 1e-10\n",
    "au2ev = au_e / ev\n",
    "hbar_au = 1.0\n",
    "me_au = 1.0\n",
    "\n",
    "# onda plana\n",
    "grid_tempo = np.linspace(0.0, 2.1739442773545673e-14, 20)\n",
    "alias = {\n",
    "    'Solucao Analitica': '',\n",
    "    'Pseudo-Espectral': 'pe',\n",
    "    'Crank-Nicolson': 'cn',\n",
    "    'Runge-Kutta': 'rk'\n",
    "}\n",
    "metodos = list(alias.keys())\n",
    "\n",
    "\n",
    "parametros = {\n",
    "    'onda_plana_parametro_bom': {\n",
    "        'L': 100.0,\n",
    "        'N': 1024,\n",
    "        'dt': 1e-18\n",
    "    },\n",
    "    'onda_plana_parametro_ruim': {\n",
    "        'L': 850.0,\n",
    "        'N': 256,\n",
    "        'dt': 1e-16\n",
    "    }\n",
    "}"
   ]
  },
  {
   "cell_type": "markdown",
   "metadata": {},
   "source": [
    "# Gerando onda plana"
   ]
  },
  {
   "cell_type": "code",
   "execution_count": null,
   "metadata": {
    "ExecuteTime": {
     "end_time": "2018-09-19T01:41:02.722620Z",
     "start_time": "2018-09-19T01:41:02.718914Z"
    }
   },
   "outputs": [],
   "source": [
    "# for par in list(parametros.keys()):\n",
    "#     data = []\n",
    "#     L = parametros[par]['L']\n",
    "#     N = parametros[par]['N']\n",
    "#     dt = parametros[par]['dt']\n",
    "\n",
    "#     for tempo in grid_tempo:\n",
    "#         for metodo in metodos:\n",
    "#             if metodo == 'Solucao Analitica':\n",
    "#                 evolucao = evolucao_analitica(L=L, tempo=tempo, N=2048)\n",
    "#                 zf = evolucao['zf_real']\n",
    "#             else:\n",
    "#                 evolucao = evolucao_numerica(L=L, N=N, dt=dt, zf=zf,\n",
    "#                                              method=alias[metodo])\n",
    "#             z_ang = evolucao['z_ang']\n",
    "#             psi2 = (np.abs(evolucao['wave_final']) ** 2).real\n",
    "#             for z,f in zip(z_ang, psi2):\n",
    "#                 data.append({\n",
    "#                     'z': z,\n",
    "#                     'psi2': f,\n",
    "#                     'metodo': metodo,\n",
    "#                     'tempo': \"{:.2e}\".format(tempo)\n",
    "#                 })\n",
    "#     dataset = pd.DataFrame(data)\n",
    "#     dataset.to_csv('saidas/{}.csv'.format(par), sep=',', index=False)\n",
    "#     dataset.to_pickle('saidas/{}.pkl'.format(par))"
   ]
  },
  {
   "cell_type": "code",
   "execution_count": null,
   "metadata": {
    "ExecuteTime": {
     "end_time": "2018-09-19T01:41:30.432924Z",
     "start_time": "2018-09-19T01:41:05.149983Z"
    }
   },
   "outputs": [],
   "source": [
    "dataset = pd.read_pickle('saidas/onda_plana_parametro_bom.pkl')\n",
    "for i, t in enumerate(grid_tempo):\n",
    "    fig, ax = plt.subplots()\n",
    "    ax.set_xlabel(r'$z$ (\\AA)')\n",
    "    ax.set_ylabel(r'$|\\psi(z,t)|^2$')\n",
    "    tempo = \"{:.2e}\".format(t)\n",
    "    for metodo in metodos:\n",
    "        dataset_by_year = dataset[dataset['tempo'] == tempo]\n",
    "        dataset_by_year_and_cont = dataset_by_year[dataset_by_year['metodo'] == metodo]\n",
    "        x = list(dataset_by_year_and_cont['z'])\n",
    "        y = list(dataset_by_year_and_cont['psi2'])\n",
    "        ax.plot(x, y, label=metodo)\n",
    "    ax.set_title(r\"$t = {}$ s\".format(as_si(t, 2)), fontsize=16)\n",
    "    plt.ylim(-0.001, 0.05)\n",
    "    plt.xlim(-50.0, 50.0)\n",
    "    plt.legend()\n",
    "    plt.savefig('apresentacao/saidas/onda_plana_parametros_bons_{0:02d}.png'.format(i))\n",
    "    plt.show()"
   ]
  },
  {
   "cell_type": "code",
   "execution_count": null,
   "metadata": {
    "ExecuteTime": {
     "end_time": "2018-09-19T01:43:10.180925Z",
     "start_time": "2018-09-19T01:42:42.356028Z"
    }
   },
   "outputs": [],
   "source": [
    "dataset = pd.read_pickle('saidas/onda_plana_parametro_ruim.pkl')\n",
    "for i, t in enumerate(grid_tempo):\n",
    "    fig, ax = plt.subplots()\n",
    "    ax.set_xlabel(r'$z$ (\\AA)')\n",
    "    ax.set_ylabel(r'$|\\psi(z,t)|^2$')\n",
    "    tempo = \"{:.2e}\".format(t)\n",
    "    for metodo in metodos:\n",
    "        dataset_by_year = dataset[dataset['tempo'] == tempo]\n",
    "        dataset_by_year_and_cont = dataset_by_year[dataset_by_year['metodo'] == metodo]\n",
    "        x = list(dataset_by_year_and_cont['z'])\n",
    "        y = list(dataset_by_year_and_cont['psi2'])\n",
    "        ax.plot(x, y, label=metodo)\n",
    "    ax.set_title(r\"$t = {}$ s\".format(as_si(t, 2)), fontsize=16)\n",
    "    plt.ylim(-0.001, 0.05)\n",
    "    plt.xlim(-50.0, 50.0)\n",
    "    plt.legend()\n",
    "    plt.savefig('apresentacao/saidas/onda_plana_parametros_ruins_{0:02d}.png'.format(i))\n",
    "    plt.show()"
   ]
  },
  {
   "cell_type": "code",
   "execution_count": null,
   "metadata": {
    "ExecuteTime": {
     "end_time": "2018-09-19T01:43:37.183913Z",
     "start_time": "2018-09-19T01:43:10.449280Z"
    }
   },
   "outputs": [],
   "source": [
    "dataset = pd.read_pickle('saidas/onda_plana_parametro_ruim.pkl')\n",
    "for i, t in enumerate(grid_tempo):\n",
    "    fig, ax = plt.subplots()\n",
    "    ax.set_xlabel(r'$z$ (\\AA)')\n",
    "    ax.set_ylabel(r'$|\\psi(z,t)|^2$')\n",
    "    tempo = \"{:.2e}\".format(t)\n",
    "    for metodo in ['Solucao Analitica', 'Pseudo-Espectral']:\n",
    "        dataset_by_year = dataset[dataset['tempo'] == tempo]\n",
    "        dataset_by_year_and_cont = dataset_by_year[dataset_by_year['metodo'] == metodo]\n",
    "        x = list(dataset_by_year_and_cont['z'])\n",
    "        y = list(dataset_by_year_and_cont['psi2'])\n",
    "        ax.plot(x, y, label=metodo)\n",
    "    ax.set_title(r\"$t = {}$ s\".format(as_si(t, 2)), fontsize=16)\n",
    "    plt.ylim(-0.001, 0.05)\n",
    "    plt.xlim(-50.0, 50.0)\n",
    "    plt.legend()\n",
    "    plt.savefig('apresentacao/saidas/onda_plana_parametros_ruins_stdev_{0:02d}.png'.format(i))\n",
    "    plt.show()"
   ]
  },
  {
   "cell_type": "code",
   "execution_count": null,
   "metadata": {
    "ExecuteTime": {
     "end_time": "2018-09-19T01:44:05.832002Z",
     "start_time": "2018-09-19T01:43:38.001153Z"
    }
   },
   "outputs": [],
   "source": [
    "dataset = pd.read_pickle('saidas/onda_plana_parametro_ruim.pkl')\n",
    "for i, t in enumerate(grid_tempo):\n",
    "    fig, ax = plt.subplots()\n",
    "    ax.set_xlabel(r'$z$ (\\AA)')\n",
    "    ax.set_ylabel(r'$|\\psi(z,t)|^2$')\n",
    "    tempo = \"{:.2e}\".format(t)\n",
    "    for metodo in ['Solucao Analitica', 'Crank-Nicolson', 'Runge-Kutta']:\n",
    "        dataset_by_year = dataset[dataset['tempo'] == tempo]\n",
    "        dataset_by_year_and_cont = dataset_by_year[dataset_by_year['metodo'] == metodo]\n",
    "        x = list(dataset_by_year_and_cont['z'])\n",
    "        y = list(dataset_by_year_and_cont['psi2'])\n",
    "        ax.plot(x, y, label=metodo)\n",
    "    ax.set_title(r\"$t = {}$ s\".format(as_si(t, 2)), fontsize=16)\n",
    "    plt.ylim(-0.001, 0.05)\n",
    "    plt.xlim(-50.0, 50.0)\n",
    "    plt.legend()\n",
    "    plt.savefig('apresentacao/saidas/onda_plana_parametros_ruins_skew_{0:02d}.png'.format(i))\n",
    "    plt.show()"
   ]
  },
  {
   "cell_type": "markdown",
   "metadata": {},
   "source": [
    "# Gerando oscilador harmonico"
   ]
  },
  {
   "cell_type": "code",
   "execution_count": null,
   "metadata": {},
   "outputs": [],
   "source": [
    "res = solucao_numerica(iterations=100000, salvar=True)\n",
    "np.save(\"saidas/oscilador_harmonico_res_100.npy\", res)"
   ]
  },
  {
   "cell_type": "code",
   "execution_count": null,
   "metadata": {
    "ExecuteTime": {
     "end_time": "2018-09-19T01:44:06.125543Z",
     "start_time": "2018-09-19T01:44:06.097440Z"
    }
   },
   "outputs": [],
   "source": [
    "res=np.load(\"saidas/oscilador_harmonico_res_100.npy\")\n",
    "res = res.item()\n",
    "V = res['v_ev']\n",
    "z = res['z_au'] * au2ang\n",
    "y0 = np.zeros(1024)\n",
    "\n",
    "dataset=pd.read_pickle('saidas/oscilador_harmonico_100000.pkl')\n",
    "dataset.iteracoes = dataset.iteracoes+dataset.nivel*100000\n",
    "dataset.autovalor = dataset.autovalor*au2ev\n",
    "\n",
    "iteracoes = dataset.iteracoes.unique()\n",
    "niveis = dataset.nivel.unique()"
   ]
  },
  {
   "cell_type": "code",
   "execution_count": null,
   "metadata": {
    "ExecuteTime": {
     "end_time": "2018-09-19T01:46:28.921393Z",
     "start_time": "2018-09-19T01:44:06.484187Z"
    }
   },
   "outputs": [],
   "source": [
    "for i, iteracao in enumerate(iteracoes):\n",
    "    fig, ax = plt.subplots()\n",
    "    ax.plot(z, V, label=r\"$V(z)$\") \n",
    "    for nivel in niveis:\n",
    "        _iteracao = min((nivel+1)*100000, iteracao)\n",
    "        if _iteracao <= nivel * 100000:\n",
    "            continue\n",
    "        else:\n",
    "            dataset_by_iter = dataset[dataset['iteracoes'] == _iteracao]\n",
    "            dataset_by_iter_and_nivel = dataset_by_iter[dataset_by_iter['nivel'] == nivel]\n",
    "            ev = dataset_by_iter_and_nivel['autovalor'].values[0]\n",
    "            ev *= float(_iteracao - nivel * 100000)/100000.0\n",
    "            psi = np.array(dataset_by_iter_and_nivel['autovetor2'])\n",
    "            psi /= np.sqrt(simps(psi*psi.conj(), z))\n",
    "            psi = 0.3*psi+ev\n",
    "            x = dataset_by_iter_and_nivel['z'] * au2ang\n",
    "            y = psi\n",
    "            #label = r\"$|\\phi_{}(z)|^2$\".format(nivel)\n",
    "        ax.plot(x, y)#, label=label)\n",
    "        \n",
    "        evlabel = '{:.6f}'.format(ev)\n",
    "        evlabel = r'$E_{} = {}$ eV'.format(nivel, evlabel.replace('.', ','))\n",
    "        ax.text(-55, ev+0.02, evlabel)\n",
    "        ax.text(30, ev+0.02, r'$|\\varphi_{} (z)|^2$'.format(nivel))\n",
    "       \n",
    "    ax.set_title(r\"Itera\\c{c}\\~{a}o = \" + r\"{}\".format(iteracao), fontsize=16)\n",
    "    plt.xlim(-60.0, 60.0)\n",
    "    plt.ylim(-0.1, 1.0)\n",
    "    plt.legend()\n",
    "    plt.savefig('apresentacao/saidas/oscilador_harmonico_evoluindo_{0:03d}.png'.format(i))\n",
    "    plt.show()"
   ]
  }
 ],
 "metadata": {
  "celltoolbar": "Initialization Cell",
  "kernelspec": {
   "display_name": "Python 3",
   "language": "python",
   "name": "python3"
  },
  "language_info": {
   "codemirror_mode": {
    "name": "ipython",
    "version": 3
   },
   "file_extension": ".py",
   "mimetype": "text/x-python",
   "name": "python",
   "nbconvert_exporter": "python",
   "pygments_lexer": "ipython3",
   "version": "3.6.3"
  },
  "latex_envs": {
   "LaTeX_envs_menu_present": true,
   "autoclose": false,
   "autocomplete": true,
   "bibliofile": "biblio.bib",
   "cite_by": "apalike",
   "current_citInitial": 1,
   "eqLabelWithNumbers": false,
   "eqNumInitial": 1,
   "hotkeys": {
    "equation": "Ctrl-E",
    "itemize": "Ctrl-I"
   },
   "labels_anchors": false,
   "latex_user_defs": false,
   "report_style_numbering": false,
   "user_envs_cfg": false
  },
  "toc": {
   "base_numbering": 1,
   "nav_menu": {},
   "number_sections": true,
   "sideBar": true,
   "skip_h1_title": false,
   "title_cell": "Table of Contents",
   "title_sidebar": "Contents",
   "toc_cell": false,
   "toc_position": {},
   "toc_section_display": true,
   "toc_window_display": false
  },
  "varInspector": {
   "cols": {
    "lenName": 16,
    "lenType": 16,
    "lenVar": 40
   },
   "kernels_config": {
    "python": {
     "delete_cmd_postfix": "",
     "delete_cmd_prefix": "del ",
     "library": "var_list.py",
     "varRefreshCmd": "print(var_dic_list())"
    },
    "r": {
     "delete_cmd_postfix": ") ",
     "delete_cmd_prefix": "rm(",
     "library": "var_list.r",
     "varRefreshCmd": "cat(var_dic_list()) "
    }
   },
   "types_to_exclude": [
    "module",
    "function",
    "builtin_function_or_method",
    "instance",
    "_Feature"
   ],
   "window_display": false
  }
 },
 "nbformat": 4,
 "nbformat_minor": 2
}
